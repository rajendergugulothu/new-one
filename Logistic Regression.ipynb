{
 "cells": [
  {
   "cell_type": "code",
   "execution_count": 1,
   "id": "4f08facd",
   "metadata": {},
   "outputs": [],
   "source": [
    "import pandas as pd\n",
    "import numpy as np"
   ]
  },
  {
   "cell_type": "code",
   "execution_count": 9,
   "id": "802e8c35",
   "metadata": {},
   "outputs": [],
   "source": [
    "data = {\n",
    "    \"Cough\" : np.arange(1, 15, 2) / 2,\n",
    "    'Classes' : np.random.choice(['Yes', 'No'], size=(7))\n",
    "}"
   ]
  },
  {
   "cell_type": "code",
   "execution_count": 11,
   "id": "6ed50c63",
   "metadata": {},
   "outputs": [],
   "source": [
    "dataframe = pd.DataFrame(data=data)"
   ]
  },
  {
   "cell_type": "code",
   "execution_count": 12,
   "id": "ad902f84",
   "metadata": {},
   "outputs": [
    {
     "data": {
      "text/html": [
       "<div>\n",
       "<style scoped>\n",
       "    .dataframe tbody tr th:only-of-type {\n",
       "        vertical-align: middle;\n",
       "    }\n",
       "\n",
       "    .dataframe tbody tr th {\n",
       "        vertical-align: top;\n",
       "    }\n",
       "\n",
       "    .dataframe thead th {\n",
       "        text-align: right;\n",
       "    }\n",
       "</style>\n",
       "<table border=\"1\" class=\"dataframe\">\n",
       "  <thead>\n",
       "    <tr style=\"text-align: right;\">\n",
       "      <th></th>\n",
       "      <th>Cough</th>\n",
       "      <th>Classes</th>\n",
       "    </tr>\n",
       "  </thead>\n",
       "  <tbody>\n",
       "    <tr>\n",
       "      <th>0</th>\n",
       "      <td>0.5</td>\n",
       "      <td>Yes</td>\n",
       "    </tr>\n",
       "    <tr>\n",
       "      <th>1</th>\n",
       "      <td>1.5</td>\n",
       "      <td>No</td>\n",
       "    </tr>\n",
       "    <tr>\n",
       "      <th>2</th>\n",
       "      <td>2.5</td>\n",
       "      <td>Yes</td>\n",
       "    </tr>\n",
       "    <tr>\n",
       "      <th>3</th>\n",
       "      <td>3.5</td>\n",
       "      <td>No</td>\n",
       "    </tr>\n",
       "    <tr>\n",
       "      <th>4</th>\n",
       "      <td>4.5</td>\n",
       "      <td>No</td>\n",
       "    </tr>\n",
       "    <tr>\n",
       "      <th>5</th>\n",
       "      <td>5.5</td>\n",
       "      <td>No</td>\n",
       "    </tr>\n",
       "    <tr>\n",
       "      <th>6</th>\n",
       "      <td>6.5</td>\n",
       "      <td>No</td>\n",
       "    </tr>\n",
       "  </tbody>\n",
       "</table>\n",
       "</div>"
      ],
      "text/plain": [
       "   Cough Classes\n",
       "0    0.5     Yes\n",
       "1    1.5      No\n",
       "2    2.5     Yes\n",
       "3    3.5      No\n",
       "4    4.5      No\n",
       "5    5.5      No\n",
       "6    6.5      No"
      ]
     },
     "execution_count": 12,
     "metadata": {},
     "output_type": "execute_result"
    }
   ],
   "source": [
    "dataframe"
   ]
  },
  {
   "cell_type": "markdown",
   "id": "b1ee038c",
   "metadata": {},
   "source": [
    "$$xi = mx + c$$\n",
    "$$sigmoid = \\frac{1}{1+e^{-xi}}$$"
   ]
  },
  {
   "cell_type": "code",
   "execution_count": 47,
   "id": "a572f8b1",
   "metadata": {},
   "outputs": [],
   "source": [
    "m = 2.4\n",
    "c = .01\n",
    "\n",
    "X = []\n",
    "for value in dataframe['Cough'].values:\n",
    "    X.append( (m*value) + c)"
   ]
  },
  {
   "cell_type": "code",
   "execution_count": 48,
   "id": "f7d016f7",
   "metadata": {},
   "outputs": [
    {
     "name": "stdout",
     "output_type": "stream",
     "text": [
      "0.22970105095339813\n",
      "0.0263393196252834\n",
      "0.0024480803753001894\n",
      "0.00022258030389767927\n",
      "2.0196117069413884e-05\n",
      "1.8321840510974324e-06\n",
      "1.66212264070052e-07\n"
     ]
    }
   ],
   "source": [
    "def sigmoid(value):\n",
    "    pre = 1 / (1 + np.exp(value))\n",
    "    print(pre)\n",
    "    if pre > 0.5:\n",
    "        return \"Yes\"\n",
    "    else:\n",
    "        return \"No\"\n",
    "    \n",
    "y_pred = []\n",
    "for value in X:\n",
    "    y_pred.append(sigmoid(value))"
   ]
  },
  {
   "cell_type": "code",
   "execution_count": 49,
   "id": "1468ecfa",
   "metadata": {},
   "outputs": [],
   "source": [
    "y_org = dataframe['Classes'].values"
   ]
  },
  {
   "cell_type": "markdown",
   "id": "1b1429b2",
   "metadata": {},
   "source": [
    "$$accuracy = Correctlydata / Total data$$"
   ]
  },
  {
   "cell_type": "code",
   "execution_count": 50,
   "id": "3965350f",
   "metadata": {},
   "outputs": [
    {
     "name": "stdout",
     "output_type": "stream",
     "text": [
      "Total Correct 5, Total length 7\n"
     ]
    },
    {
     "data": {
      "text/plain": [
       "'71.42857142857143%'"
      ]
     },
     "execution_count": 50,
     "metadata": {},
     "output_type": "execute_result"
    }
   ],
   "source": [
    "def accuracy(y_pred, y_orig):\n",
    "    correct = 0\n",
    "    \n",
    "    for y_pred_val, y_orig_val in zip(y_pred, y_orig):\n",
    "        if y_orig_val == y_pred_val:\n",
    "            correct = correct + 1    \n",
    "    print(f\"Total Correct {correct}, Total length {len(y_pred)}\")\n",
    "    return f\"{(correct / len(y_pred))*100}%\"\n",
    "accuracy(y_pred=y_pred, y_orig=y_org)"
   ]
  },
  {
   "cell_type": "code",
   "execution_count": null,
   "id": "97fa4c8a",
   "metadata": {},
   "outputs": [],
   "source": []
  }
 ],
 "metadata": {
  "kernelspec": {
   "display_name": "Python 3",
   "language": "python",
   "name": "python3"
  },
  "language_info": {
   "codemirror_mode": {
    "name": "ipython",
    "version": 3
   },
   "file_extension": ".py",
   "mimetype": "text/x-python",
   "name": "python",
   "nbconvert_exporter": "python",
   "pygments_lexer": "ipython3",
   "version": "3.7.10"
  }
 },
 "nbformat": 4,
 "nbformat_minor": 5
}
