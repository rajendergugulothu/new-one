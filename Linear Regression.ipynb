{
 "cells": [
  {
   "cell_type": "code",
   "execution_count": 1,
   "id": "da989ed9",
   "metadata": {},
   "outputs": [],
   "source": [
    "import numpy as np\n",
    "import pandas as pd\n",
    "import matplotlib.pyplot as plt"
   ]
  },
  {
   "cell_type": "code",
   "execution_count": 2,
   "id": "edd092d1",
   "metadata": {},
   "outputs": [],
   "source": [
    "data = {\n",
    "    \"X\" : np.arange(1, 8),\n",
    "    \"Y\" : np.array([1.5, 3.8, 6.7, 9.0, 11.2, 13.6, 16])\n",
    "}\n",
    "\n",
    "dataFrame = pd.DataFrame(data=data, index=None)"
   ]
  },
  {
   "cell_type": "code",
   "execution_count": 3,
   "id": "b46d2345",
   "metadata": {},
   "outputs": [
    {
     "data": {
      "text/html": [
       "<div>\n",
       "<style scoped>\n",
       "    .dataframe tbody tr th:only-of-type {\n",
       "        vertical-align: middle;\n",
       "    }\n",
       "\n",
       "    .dataframe tbody tr th {\n",
       "        vertical-align: top;\n",
       "    }\n",
       "\n",
       "    .dataframe thead th {\n",
       "        text-align: right;\n",
       "    }\n",
       "</style>\n",
       "<table border=\"1\" class=\"dataframe\">\n",
       "  <thead>\n",
       "    <tr style=\"text-align: right;\">\n",
       "      <th></th>\n",
       "      <th>X</th>\n",
       "      <th>Y</th>\n",
       "    </tr>\n",
       "  </thead>\n",
       "  <tbody>\n",
       "    <tr>\n",
       "      <th>0</th>\n",
       "      <td>1</td>\n",
       "      <td>1.5</td>\n",
       "    </tr>\n",
       "    <tr>\n",
       "      <th>1</th>\n",
       "      <td>2</td>\n",
       "      <td>3.8</td>\n",
       "    </tr>\n",
       "    <tr>\n",
       "      <th>2</th>\n",
       "      <td>3</td>\n",
       "      <td>6.7</td>\n",
       "    </tr>\n",
       "    <tr>\n",
       "      <th>3</th>\n",
       "      <td>4</td>\n",
       "      <td>9.0</td>\n",
       "    </tr>\n",
       "    <tr>\n",
       "      <th>4</th>\n",
       "      <td>5</td>\n",
       "      <td>11.2</td>\n",
       "    </tr>\n",
       "    <tr>\n",
       "      <th>5</th>\n",
       "      <td>6</td>\n",
       "      <td>13.6</td>\n",
       "    </tr>\n",
       "    <tr>\n",
       "      <th>6</th>\n",
       "      <td>7</td>\n",
       "      <td>16.0</td>\n",
       "    </tr>\n",
       "  </tbody>\n",
       "</table>\n",
       "</div>"
      ],
      "text/plain": [
       "   X     Y\n",
       "0  1   1.5\n",
       "1  2   3.8\n",
       "2  3   6.7\n",
       "3  4   9.0\n",
       "4  5  11.2\n",
       "5  6  13.6\n",
       "6  7  16.0"
      ]
     },
     "execution_count": 3,
     "metadata": {},
     "output_type": "execute_result"
    }
   ],
   "source": [
    "dataFrame"
   ]
  },
  {
   "cell_type": "code",
   "execution_count": 6,
   "id": "92f32c00",
   "metadata": {},
   "outputs": [],
   "source": [
    "dataFrame['XY'] = dataFrame['X'] * dataFrame['Y']\n",
    "dataFrame['X2'] = dataFrame['X'] ** 2"
   ]
  },
  {
   "cell_type": "code",
   "execution_count": 7,
   "id": "b3eda82a",
   "metadata": {},
   "outputs": [
    {
     "data": {
      "text/html": [
       "<div>\n",
       "<style scoped>\n",
       "    .dataframe tbody tr th:only-of-type {\n",
       "        vertical-align: middle;\n",
       "    }\n",
       "\n",
       "    .dataframe tbody tr th {\n",
       "        vertical-align: top;\n",
       "    }\n",
       "\n",
       "    .dataframe thead th {\n",
       "        text-align: right;\n",
       "    }\n",
       "</style>\n",
       "<table border=\"1\" class=\"dataframe\">\n",
       "  <thead>\n",
       "    <tr style=\"text-align: right;\">\n",
       "      <th></th>\n",
       "      <th>X</th>\n",
       "      <th>Y</th>\n",
       "      <th>XY</th>\n",
       "      <th>X2</th>\n",
       "    </tr>\n",
       "  </thead>\n",
       "  <tbody>\n",
       "    <tr>\n",
       "      <th>0</th>\n",
       "      <td>1</td>\n",
       "      <td>1.5</td>\n",
       "      <td>1.5</td>\n",
       "      <td>1</td>\n",
       "    </tr>\n",
       "    <tr>\n",
       "      <th>1</th>\n",
       "      <td>2</td>\n",
       "      <td>3.8</td>\n",
       "      <td>7.6</td>\n",
       "      <td>4</td>\n",
       "    </tr>\n",
       "    <tr>\n",
       "      <th>2</th>\n",
       "      <td>3</td>\n",
       "      <td>6.7</td>\n",
       "      <td>20.1</td>\n",
       "      <td>9</td>\n",
       "    </tr>\n",
       "    <tr>\n",
       "      <th>3</th>\n",
       "      <td>4</td>\n",
       "      <td>9.0</td>\n",
       "      <td>36.0</td>\n",
       "      <td>16</td>\n",
       "    </tr>\n",
       "    <tr>\n",
       "      <th>4</th>\n",
       "      <td>5</td>\n",
       "      <td>11.2</td>\n",
       "      <td>56.0</td>\n",
       "      <td>25</td>\n",
       "    </tr>\n",
       "    <tr>\n",
       "      <th>5</th>\n",
       "      <td>6</td>\n",
       "      <td>13.6</td>\n",
       "      <td>81.6</td>\n",
       "      <td>36</td>\n",
       "    </tr>\n",
       "    <tr>\n",
       "      <th>6</th>\n",
       "      <td>7</td>\n",
       "      <td>16.0</td>\n",
       "      <td>112.0</td>\n",
       "      <td>49</td>\n",
       "    </tr>\n",
       "  </tbody>\n",
       "</table>\n",
       "</div>"
      ],
      "text/plain": [
       "   X     Y     XY  X2\n",
       "0  1   1.5    1.5   1\n",
       "1  2   3.8    7.6   4\n",
       "2  3   6.7   20.1   9\n",
       "3  4   9.0   36.0  16\n",
       "4  5  11.2   56.0  25\n",
       "5  6  13.6   81.6  36\n",
       "6  7  16.0  112.0  49"
      ]
     },
     "execution_count": 7,
     "metadata": {},
     "output_type": "execute_result"
    }
   ],
   "source": [
    "dataFrame"
   ]
  },
  {
   "cell_type": "code",
   "execution_count": 15,
   "id": "e5dc3a1f",
   "metadata": {},
   "outputs": [],
   "source": [
    "sum_X, sum_Y, sum_XY, sum_X2 = dataFrame.sum()"
   ]
  },
  {
   "cell_type": "code",
   "execution_count": 16,
   "id": "7e514311",
   "metadata": {},
   "outputs": [],
   "source": [
    "n = len(dataFrame)\n",
    "sum_X_2 = sum_X ** 2"
   ]
  },
  {
   "cell_type": "code",
   "execution_count": 17,
   "id": "64b72e36",
   "metadata": {},
   "outputs": [
    {
     "data": {
      "text/plain": [
       "(28.0, 61.800000000000004, 314.8, 140.0, 7, 784.0)"
      ]
     },
     "execution_count": 17,
     "metadata": {},
     "output_type": "execute_result"
    }
   ],
   "source": [
    "sum_X, sum_Y, sum_XY, sum_X2, n, sum_X_2"
   ]
  },
  {
   "cell_type": "markdown",
   "id": "a5a5780b",
   "metadata": {},
   "source": [
    "$$ m = \\frac{n\\sum XY - \\sum X \\sum Y}{n\\sum X^{2} - \\left ( \\sum X \\right )^{2}} $$"
   ]
  },
  {
   "cell_type": "code",
   "execution_count": 18,
   "id": "c0c45cda",
   "metadata": {},
   "outputs": [],
   "source": [
    "numerator = (n*(sum_XY)) - (sum_X * sum_Y)\n",
    "denominator = (n * (sum_X2)) - (sum_X_2)"
   ]
  },
  {
   "cell_type": "code",
   "execution_count": 20,
   "id": "08991413",
   "metadata": {},
   "outputs": [],
   "source": [
    "m = numerator / denominator"
   ]
  },
  {
   "cell_type": "code",
   "execution_count": 21,
   "id": "cfbc8de1",
   "metadata": {},
   "outputs": [
    {
     "data": {
      "text/plain": [
       "2.4142857142857133"
      ]
     },
     "execution_count": 21,
     "metadata": {},
     "output_type": "execute_result"
    }
   ],
   "source": [
    "m"
   ]
  },
  {
   "cell_type": "markdown",
   "id": "bd106287",
   "metadata": {},
   "source": [
    "$$ b = \\frac{\\sum Y - m * \\sum X}{n} $$"
   ]
  },
  {
   "cell_type": "code",
   "execution_count": 23,
   "id": "9d9b4821",
   "metadata": {},
   "outputs": [],
   "source": [
    "numerator_b = sum_Y - (m * (sum_X))\n",
    "denominator_b = n\n",
    "b = numerator_b / denominator_b"
   ]
  },
  {
   "cell_type": "code",
   "execution_count": 24,
   "id": "88f23ff9",
   "metadata": {},
   "outputs": [
    {
     "data": {
      "text/plain": [
       "-0.8285714285714231"
      ]
     },
     "execution_count": 24,
     "metadata": {},
     "output_type": "execute_result"
    }
   ],
   "source": [
    "b"
   ]
  },
  {
   "cell_type": "markdown",
   "id": "ae98bbaf",
   "metadata": {},
   "source": [
    "$$ y_{pred} = mX + b $$"
   ]
  },
  {
   "cell_type": "code",
   "execution_count": 25,
   "id": "fc746b28",
   "metadata": {},
   "outputs": [
    {
     "data": {
      "text/plain": [
       "array([ 1.58571429,  4.        ,  6.41428571,  8.82857143, 11.24285714,\n",
       "       13.65714286, 16.07142857])"
      ]
     },
     "execution_count": 25,
     "metadata": {},
     "output_type": "execute_result"
    }
   ],
   "source": [
    "y_pred = np.array([(m*X + b) for X in range(1, 8)])\n",
    "y_pred"
   ]
  },
  {
   "cell_type": "code",
   "execution_count": 26,
   "id": "85c8b22c",
   "metadata": {},
   "outputs": [
    {
     "data": {
      "text/plain": [
       "array([ 1.5,  3.8,  6.7,  9. , 11.2, 13.6, 16. ])"
      ]
     },
     "execution_count": 26,
     "metadata": {},
     "output_type": "execute_result"
    }
   ],
   "source": [
    "y_orig = dataFrame['Y'].values\n",
    "y_orig"
   ]
  },
  {
   "cell_type": "code",
   "execution_count": 31,
   "id": "f77500ce",
   "metadata": {},
   "outputs": [
    {
     "data": {
      "image/png": "[encoded data removed]",
      "text/plain": [
       "<Figure size 432x288 with 1 Axes>"
      ]
     },
     "metadata": {
      "needs_background": "light"
     },
     "output_type": "display_data"
    }
   ],
   "source": [
    "plt.scatter(list(range(1, 8)), y_orig)\n",
    "plt.plot(list(range(1, 8)), y_pred, c= 'g')\n",
    "plt.xlabel(\"X\")\n",
    "plt.ylabel(\"Y\")\n",
    "plt.show()"
   ]
  },
  {
   "cell_type": "markdown",
   "id": "379ffd6a",
   "metadata": {},
   "source": [
    "$$ error = \\sum (Y_{orig} - Y_{pred}) ^{2} $$"
   ]
  },
  {
   "cell_type": "code",
   "execution_count": 34,
   "id": "d15381b1",
   "metadata": {},
   "outputs": [
    {
     "data": {
      "text/plain": [
       "0.16857142857142873"
      ]
     },
     "execution_count": 34,
     "metadata": {},
     "output_type": "execute_result"
    }
   ],
   "source": [
    "error = sum([(y_org - y_pr) ** 2 for y_org, y_pr in zip(y_orig, y_pred)])\n",
    "error"
   ]
  },
  {
   "cell_type": "code",
   "execution_count": 36,
   "id": "10e6dca3",
   "metadata": {},
   "outputs": [],
   "source": [
    "class LinearRegression:\n",
    "    \n",
    "    def __init__(self, dataFrame):\n",
    "        #todo\n",
    "        pass\n",
    "    \n",
    "    def training(self):\n",
    "        #todo \n",
    "        pass\n",
    "#         return m, b\n",
    "\n",
    "    \n",
    "    def fit(self, m, b):\n",
    "        pass\n",
    "#         return y_pred\n",
    "    \n",
    "    def error(self):\n",
    "        return error    "
   ]
  },
  {
   "cell_type": "code",
   "execution_count": 37,
   "id": "5e01bc19",
   "metadata": {},
   "outputs": [],
   "source": [
    "# https://latex.codecogs.com/eqneditor/editor.php"
   ]
  },
  {
   "cell_type": "code",
   "execution_count": null,
   "id": "700b9065",
   "metadata": {},
   "outputs": [],
   "source": []
  }
 ],
 "metadata": {
  "kernelspec": {
   "display_name": "Python 3",
   "language": "python",
   "name": "python3"
  },
  "language_info": {
   "codemirror_mode": {
    "name": "ipython",
    "version": 3
   },
   "file_extension": ".py",
   "mimetype": "text/x-python",
   "name": "python",
   "nbconvert_exporter": "python",
   "pygments_lexer": "ipython3",
   "version": "3.7.10"
  }
 },
 "nbformat": 4,
 "nbformat_minor": 5
}
