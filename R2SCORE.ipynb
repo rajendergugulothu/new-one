{
 "cells": [
  {
   "cell_type": "markdown",
   "id": "18ef905a",
   "metadata": {},
   "source": [
    "$$R2 = 1 - \\frac{RSS}{TSS}$$\n",
    "\n",
    "<ul>RSS - Residuals Squared Error / Sum of Squared Error<ul>\n",
    "<ul>TSS - Total Squared Error<ul>"
   ]
  },
  {
   "cell_type": "markdown",
   "id": "82fdf8a7",
   "metadata": {},
   "source": [
    "RSS\n",
    "\n",
    "$$RSS = \\sum (Y_{original} - Y_{predicted}) ^ {2}$$"
   ]
  },
  {
   "cell_type": "markdown",
   "id": "eb807db0",
   "metadata": {},
   "source": [
    "TSS\n",
    "\n",
    "$$TSS = \\sum (Y_{originals} - Y_{mean})^{2}$$"
   ]
  },
  {
   "cell_type": "code",
   "execution_count": 2,
   "id": "0763de34",
   "metadata": {},
   "outputs": [],
   "source": [
    "# RSS\n",
    "\n",
    "Y_PRED = [ 1.58571429,  4.        ,  6.41428571,  8.82857143, 11.24285714,13.65714286, 16.07142857]\n",
    "Y_ORIG = [ 1.5,  3.8,  6.7,  9. , 11.2, 13.6, 16. ]"
   ]
  },
  {
   "cell_type": "code",
   "execution_count": 8,
   "id": "9418630a",
   "metadata": {},
   "outputs": [
    {
     "name": "stdout",
     "output_type": "stream",
     "text": [
      "0.16857143114285741\n"
     ]
    }
   ],
   "source": [
    "rss_sum = 0\n",
    "for y_pred, y_orig in zip(Y_PRED, Y_ORIG):\n",
    "    rss_sum += (y_pred - y_orig) ** 2\n",
    "print(rss_sum)"
   ]
  },
  {
   "cell_type": "code",
   "execution_count": 9,
   "id": "2b6c82c8",
   "metadata": {},
   "outputs": [],
   "source": [
    "# TSS"
   ]
  },
  {
   "cell_type": "code",
   "execution_count": 10,
   "id": "094e4a8f",
   "metadata": {},
   "outputs": [
    {
     "data": {
      "text/plain": [
       "163.37428571428572"
      ]
     },
     "execution_count": 10,
     "metadata": {},
     "output_type": "execute_result"
    }
   ],
   "source": [
    "Y_MEAN = sum(Y_ORIG) / len(Y_ORIG)\n",
    "\n",
    "tss_sum = 0\n",
    "for y_orig in Y_ORIG:\n",
    "    tss_sum += (y_orig - Y_MEAN) ** 2\n",
    "    \n",
    "tss_sum"
   ]
  },
  {
   "cell_type": "code",
   "execution_count": 15,
   "id": "70e46d08",
   "metadata": {},
   "outputs": [
    {
     "data": {
      "text/plain": [
       "0.9989681887182805"
      ]
     },
     "execution_count": 15,
     "metadata": {},
     "output_type": "execute_result"
    }
   ],
   "source": [
    "R2 = 1 - (rss_sum/tss_sum)\n",
    "R2"
   ]
  },
  {
   "cell_type": "code",
   "execution_count": null,
   "id": "15f62731",
   "metadata": {},
   "outputs": [],
   "source": []
  }
 ],
 "metadata": {
  "kernelspec": {
   "display_name": "Python 3",
   "language": "python",
   "name": "python3"
  },
  "language_info": {
   "codemirror_mode": {
    "name": "ipython",
    "version": 3
   },
   "file_extension": ".py",
   "mimetype": "text/x-python",
   "name": "python",
   "nbconvert_exporter": "python",
   "pygments_lexer": "ipython3",
   "version": "3.7.10"
  }
 },
 "nbformat": 4,
 "nbformat_minor": 5
}
